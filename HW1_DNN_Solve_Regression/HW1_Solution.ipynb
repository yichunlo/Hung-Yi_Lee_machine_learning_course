{
  "nbformat": 4,
  "nbformat_minor": 0,
  "metadata": {
    "colab": {
      "name": "ML2021Spring - HW1 - TA.ipynb",
      "provenance": [],
      "collapsed_sections": [
        "wS_4-77xHk44",
        "BtE3b6JEH7rw"
      ]
    },
    "kernelspec": {
      "name": "python3",
      "display_name": "Python 3"
    },
    "accelerator": "GPU"
  },
  "cells": [
    {
      "cell_type": "markdown",
      "metadata": {
        "id": "mz0_QVkxCrX3"
      },
      "source": [
        "# **Official Solution to HW1: COVID-19 Cases Prediction (Regression)**"
      ]
    },
    {
      "cell_type": "markdown",
      "metadata": {
        "id": "ZeZnPAiwDRWG"
      },
      "source": [
        "Author: Heng-Jui Chang\n",
        "\n",
        "Methods:\n",
        "* Training with all data\n",
        "* Feature selection (14 important features)\n",
        "* DNN architecture (dimension=91, activation=RReLU)\n",
        "* Training (mini-batch=135, optimizer=SGD, learning rate=0.001)\n",
        "* L2 regularization\n",
        "* Sharing the same normalization mean and std between the training and testing sets.\n",
        "\n",
        "Running this code on Google Colab probably passes all baselines on Kaggle (public = 0.87530 / private = 0.89223).  \n",
        "The training hyper-parameters are tuned manually, do not ask why this combination works because we do not know either.\n"
      ]
    },
    {
      "cell_type": "markdown",
      "metadata": {
        "id": "Jx3x1nDkG-Uy"
      },
      "source": [
        "## **Download Data**\n",
        "\n",
        "\n",
        "If the Google drive links are dead, you can download data from [kaggle](https://www.kaggle.com/c/ml2021spring-hw1/data), and upload data manually to the workspace."
      ]
    },
    {
      "cell_type": "code",
      "metadata": {
        "colab": {
          "base_uri": "https://localhost:8080/"
        },
        "id": "tMj55YDKG6ch",
        "outputId": "02b7b1f2-b867-420c-8a80-bcff36ac28ba"
      },
      "source": [
        "tr_path = 'covid.train.csv'  # path to training data\n",
        "tt_path = 'covid.test.csv'   # path to testing data\n",
        "\n",
        "!gdown --id '19CCyCgJrUxtvgZF53vnctJiOJ23T5mqF' --output covid.train.csv\n",
        "!gdown --id '1CE240jLm2npU-tdz81-oVKEF3T2yfT1O' --output covid.test.csv"
      ],
      "execution_count": 1,
      "outputs": [
        {
          "output_type": "stream",
          "text": [
            "Downloading...\n",
            "From: https://drive.google.com/uc?id=19CCyCgJrUxtvgZF53vnctJiOJ23T5mqF\n",
            "To: /content/covid.train.csv\n",
            "100% 2.00M/2.00M [00:00<00:00, 64.0MB/s]\n",
            "Downloading...\n",
            "From: https://drive.google.com/uc?id=1CE240jLm2npU-tdz81-oVKEF3T2yfT1O\n",
            "To: /content/covid.test.csv\n",
            "100% 651k/651k [00:00<00:00, 10.3MB/s]\n"
          ],
          "name": "stdout"
        }
      ]
    },
    {
      "cell_type": "markdown",
      "metadata": {
        "id": "wS_4-77xHk44"
      },
      "source": [
        "# **Import Some Packages**"
      ]
    },
    {
      "cell_type": "code",
      "metadata": {
        "id": "k-onQd4JNA5H"
      },
      "source": [
        "# PyTorch\n",
        "import torch\n",
        "import torch.nn as nn\n",
        "from torch.utils.data import Dataset, DataLoader\n",
        "\n",
        "# For data preprocess\n",
        "import numpy as np\n",
        "import csv\n",
        "import os\n",
        "\n",
        "# For plotting\n",
        "import matplotlib.pyplot as plt\n",
        "from matplotlib.pyplot import figure"
      ],
      "execution_count": 2,
      "outputs": []
    },
    {
      "cell_type": "markdown",
      "metadata": {
        "id": "BtE3b6JEH7rw"
      },
      "source": [
        "# **Some Utilities**\n",
        "\n",
        "You do not need to modify this part."
      ]
    },
    {
      "cell_type": "code",
      "metadata": {
        "id": "FWMT3uf1NGQp"
      },
      "source": [
        "def random_seed_setup(seed):\n",
        "    # For reproducibility\n",
        "    torch.backends.cudnn.deterministic = True\n",
        "    torch.backends.cudnn.benchmark = False\n",
        "    np.random.seed(seed)\n",
        "    torch.manual_seed(seed)\n",
        "    if torch.cuda.is_available():\n",
        "        torch.cuda.manual_seed_all(seed)\n",
        "        return 'cuda'\n",
        "    else:\n",
        "        return 'cpu'\n",
        "\n",
        "def plot_learning_curve(loss_record, title=''):\n",
        "    ''' Plot learning curve of your DNN (train & dev loss) '''\n",
        "    total_steps = len(loss_record['train'])\n",
        "    x_1 = range(total_steps)\n",
        "    figure(figsize=(6, 4))\n",
        "    plt.plot(x_1, loss_record['train'], c='tab:red', label='train')\n",
        "    plt.ylim(0.0, 5.)\n",
        "    plt.xlabel('Training steps')\n",
        "    plt.ylabel('MSE loss')\n",
        "    plt.title('Learning curve of {}'.format(title))\n",
        "    plt.legend()\n",
        "    plt.show()"
      ],
      "execution_count": 3,
      "outputs": []
    },
    {
      "cell_type": "markdown",
      "metadata": {
        "id": "39U_XFX6KOoj"
      },
      "source": [
        "# **Preprocess**\n",
        "\n",
        "We have three kinds of datasets:\n",
        "* `train`: for training\n",
        "* `dev`: for validation\n",
        "* `test`: for testing (w/o target value)"
      ]
    },
    {
      "cell_type": "markdown",
      "metadata": {
        "id": "TQ-MdwpLL7Dt"
      },
      "source": [
        "## **Dataset**\n",
        "\n",
        "The `COVID19Dataset` below does:\n",
        "* read `.csv` files\n",
        "* extract features\n",
        "* split `covid.train.csv` into train/dev sets\n",
        "* normalize features\n",
        "\n",
        "Finishing `TODO` below might make you pass medium baseline."
      ]
    },
    {
      "cell_type": "code",
      "metadata": {
        "id": "0zlpIp9ANJRU"
      },
      "source": [
        "class Covid19Dataset(Dataset):\n",
        "    def __init__(self,\n",
        "                 path,\n",
        "                 mode='train',\n",
        "                 normalize='none',\n",
        "                 target_only=False,\n",
        "                 norm_mean=None,\n",
        "                 norm_std=None):\n",
        "        self.mode = mode\n",
        "\n",
        "        with open(path, 'r') as fp:\n",
        "            data = list(csv.reader(fp))\n",
        "            self.data_class = data[0][1:]\n",
        "            data = np.array(data[1:])[:, 1:].astype(float)\n",
        "        \n",
        "        # Read data into numpy arrays\n",
        "        with open(path, 'r') as fp:\n",
        "            data = list(csv.reader(fp))\n",
        "            data = np.array(data[1:])[:, 1:].astype(float)\n",
        "        \n",
        "        if not target_only:\n",
        "            feats = list(range(93))\n",
        "        else:\n",
        "            feats = 40 + np.array([0, 1, 2, 3, 17, 18, 19, 20, 21, 35, 36, 37, 38, 39])\n",
        "\n",
        "        if mode == 'test':\n",
        "            # Testing data\n",
        "            data = data[:, feats]\n",
        "            self.data = torch.FloatTensor(data)\n",
        "        else:\n",
        "            # Training data (train/dev sets)\n",
        "            target = data[:, -1]\n",
        "            data = data[:, feats]\n",
        "            \n",
        "            # Splitting training data into train & dev sets\n",
        "            if mode == 'train':\n",
        "                indices = [i for i in range(len(data)) if i % 10 != 0]\n",
        "            elif mode == 'dev':\n",
        "                indices = list(range(893))\n",
        "            else:\n",
        "                indices = list(range(len(data)))\n",
        "                # only when mode == 'train_all' (i.e., using all data for training)\n",
        "            \n",
        "            data = data[indices]\n",
        "            target = target[indices]\n",
        "            \n",
        "            # Convert data into PyTorch tensors\n",
        "            self.data = torch.FloatTensor(data)\n",
        "            self.target = torch.FloatTensor(target)\n",
        "        \n",
        "        self.norm_mean = None\n",
        "        self.norm_std = None\n",
        "\n",
        "        if normalize == 'self':\n",
        "            self.norm_mean = self.data.mean(dim=0).unsqueeze(0)\n",
        "            self.norm_std = self.data.std(dim=0).unsqueeze(0)\n",
        "            self.data = (self.data - self.norm_mean) / self.norm_std\n",
        "\n",
        "        if normalize == 'given' and (norm_mean is not None) and (norm_std is not None):\n",
        "            self.data = (self.data - norm_mean) / norm_std\n",
        "\n",
        "        self.dim = self.data.shape[1]\n",
        "\n",
        "        print('Finished reading the {} set of the Covid19 Dataset ({} samples found, each dim = {})'\n",
        "              .format(mode, self.data.shape[0], self.data.shape[1]))\n",
        "\n",
        "    def __getitem__(self, index):\n",
        "        if self.mode in ['train', 'dev', 'train_all']:\n",
        "            return self.data[index], self.target[index]\n",
        "        else:\n",
        "            return self.data[index]\n",
        "\n",
        "    def __len__(self):\n",
        "        return len(self.data)"
      ],
      "execution_count": 4,
      "outputs": []
    },
    {
      "cell_type": "markdown",
      "metadata": {
        "id": "AlhTlkE7MDo3"
      },
      "source": [
        "## **DataLoader**\n",
        "\n",
        "A `DataLoader` loads data from a given `Dataset` into batches.\n"
      ]
    },
    {
      "cell_type": "code",
      "metadata": {
        "id": "hlhLk5t6MBX3"
      },
      "source": [
        "def prep_dataloader(tr_path, tt_path, batch_size, n_jobs=0, target_only=False):\n",
        "    tr_dataset = Covid19Dataset(\n",
        "        tr_path, mode='train_all',\n",
        "        normalize='self', \n",
        "        target_only=target_only)\n",
        "\n",
        "    dv_dataset = Covid19Dataset(\n",
        "        tr_path, mode='dev',\n",
        "        normalize='given', \n",
        "        target_only=target_only,\n",
        "        norm_mean=tr_dataset.norm_mean,\n",
        "        norm_std=tr_dataset.norm_std)\n",
        "\n",
        "    tt_dataset = Covid19Dataset(\n",
        "        tt_path, mode='test',\n",
        "        normalize='given',\n",
        "        target_only=target_only,\n",
        "        norm_mean=tr_dataset.norm_mean,\n",
        "        norm_std=tr_dataset.norm_std)\n",
        "    \n",
        "    tr_dataloader = DataLoader(\n",
        "        tr_dataset, batch_size,\n",
        "        shuffle=True, drop_last=False,\n",
        "        num_workers=n_jobs, pin_memory=True)\n",
        "    \n",
        "    dv_dataloader = DataLoader(\n",
        "        dv_dataset, batch_size,\n",
        "        shuffle=False, drop_last=False,\n",
        "        num_workers=n_jobs, pin_memory=True)\n",
        "\n",
        "    tt_dataloader = DataLoader(\n",
        "        tt_dataset, batch_size,\n",
        "        shuffle=False, drop_last=False,\n",
        "        num_workers=n_jobs, pin_memory=True)\n",
        "    \n",
        "    return tr_dataloader, dv_dataloader, tt_dataloader"
      ],
      "execution_count": 5,
      "outputs": []
    },
    {
      "cell_type": "markdown",
      "metadata": {
        "id": "SGuycwR0MeQB"
      },
      "source": [
        "# **Deep Neural Network**\n",
        "\n",
        "`NeuralNet` is an `nn.Module` designed for regression.\n",
        "The DNN consists of 2 fully-connected layers with ReLU activation.\n",
        "This module also included a function `cal_loss` for calculating loss.\n"
      ]
    },
    {
      "cell_type": "code",
      "metadata": {
        "id": "49-uXYovOAI0"
      },
      "source": [
        "class NeuralNet(nn.Module):\n",
        "    ''' A simple fully-connected deep neural network '''\n",
        "    def __init__(self, input_dim, l2_reg=0.):\n",
        "        super(NeuralNet, self).__init__()\n",
        "\n",
        "        # Define your neural network here\n",
        "        self.net = nn.Sequential(\n",
        "            nn.Linear(input_dim, 91),\n",
        "            nn.RReLU(),  # randomized ReLU\n",
        "            nn.Linear(91, 1)\n",
        "        )\n",
        "\n",
        "        # Mean squared error loss\n",
        "        self.criterion = nn.MSELoss(reduction='mean')\n",
        "        self.l2_reg = l2_reg\n",
        "\n",
        "    def forward(self, x):\n",
        "        ''' Given input of size (batch_size x input_dim), compute output of the network '''\n",
        "        return self.net(x).squeeze(1)\n",
        "\n",
        "    def cal_loss(self, pred, target, is_train=True):\n",
        "        ''' Calculate loss '''\n",
        "        total_loss = 0\n",
        "\n",
        "        mse_loss = self.criterion(pred, target)\n",
        "        total_loss += mse_loss\n",
        "        if is_train and self.l2_reg > 0.:\n",
        "            reg_loss = 0\n",
        "            for param in self.parameters():\n",
        "                reg_loss += torch.norm(param, p=2)\n",
        "            total_loss += reg_loss * self.l2_reg\n",
        "        \n",
        "        return total_loss, mse_loss"
      ],
      "execution_count": 6,
      "outputs": []
    },
    {
      "cell_type": "markdown",
      "metadata": {
        "id": "DvFWVjZ5Nvga"
      },
      "source": [
        "# **Train/Dev/Test**"
      ]
    },
    {
      "cell_type": "markdown",
      "metadata": {
        "id": "MAM8QecJOyqn"
      },
      "source": [
        "## **Training**"
      ]
    },
    {
      "cell_type": "code",
      "metadata": {
        "id": "lOqcmYzMO7jB"
      },
      "source": [
        "def train(tr_set, dv_set, model, config, device):\n",
        "    n_epochs = config['n_epochs']\n",
        "    optimizer = getattr(torch.optim, config['optimizer'])(\n",
        "        model.parameters(), **config['optim_hparas'])\n",
        "\n",
        "    loss_record = {'train': []}\n",
        "    epoch = 0\n",
        "    while epoch < n_epochs:\n",
        "        model.train()\n",
        "        for i, (x, y) in enumerate(tr_set):\n",
        "            optimizer.zero_grad()\n",
        "            x, y = x.to(device), y.to(device)\n",
        "            pred = model(x)\n",
        "            total_loss, mse_loss = model.cal_loss(pred, y, is_train=True)\n",
        "            total_loss.backward()\n",
        "            optimizer.step()\n",
        "            loss_record['train'].append(total_loss.detach().cpu().item())\n",
        "\n",
        "        dev_mse = dev(dv_set, model, device)\n",
        "        \n",
        "        print('Saving model (epoch = {:3d})'\n",
        "              .format(epoch + 1))\n",
        "        torch.save(model.state_dict(), config['save_path'])\n",
        "\n",
        "        epoch += 1\n",
        "\n",
        "    print('Finished training after {} epochs'.format(epoch))\n",
        "\n",
        "    return loss_record\n",
        "\n",
        "def dev(dv_set, model, device):\n",
        "    model.eval()\n",
        "    total_loss = 0\n",
        "    for x, y in dv_set:\n",
        "        x, y = x.to(device), y.to(device)\n",
        "        with torch.no_grad():\n",
        "            pred = model(x)\n",
        "            _, mse_loss = model.cal_loss(pred, y, is_train=False)\n",
        "        total_loss += mse_loss.detach().cpu().item() * len(x)\n",
        "    total_loss = total_loss / len(dv_set.dataset)\n",
        "\n",
        "    return total_loss"
      ],
      "execution_count": 7,
      "outputs": []
    },
    {
      "cell_type": "markdown",
      "metadata": {
        "id": "g0pdrhQAO41L"
      },
      "source": [
        "## **Testing**"
      ]
    },
    {
      "cell_type": "code",
      "metadata": {
        "id": "aSBMRFlYN5tB"
      },
      "source": [
        "def test(tt_set, model, device):\n",
        "    model.eval()                                # set model to evalutation mode\n",
        "    preds = []\n",
        "    for x in tt_set:                            # iterate through the dataloader\n",
        "        x = x.to(device)                        # move data to device (cpu/cuda)\n",
        "        with torch.no_grad():                   # disable gradient calculation\n",
        "            pred = model(x)                     # forward pass (compute output)\n",
        "            preds.append(pred.detach().cpu())   # collect prediction\n",
        "    preds = torch.cat(preds, dim=0).numpy()     # concatenate all predictions and convert to a numpy array\n",
        "    return preds"
      ],
      "execution_count": 8,
      "outputs": []
    },
    {
      "cell_type": "markdown",
      "metadata": {
        "id": "SvckkF5dvf0j"
      },
      "source": [
        "# **Setup Hyper-parameters**\n",
        "\n",
        "`config` contains hyper-parameters for training and the path to save your model."
      ]
    },
    {
      "cell_type": "code",
      "metadata": {
        "id": "NPXpdumwPjE7"
      },
      "source": [
        "device = random_seed_setup(42097)\n",
        "os.makedirs('models', exist_ok=True)  # The trained model will be saved to ./models/\n",
        "target_only = True\n",
        "\n",
        "config = {\n",
        "    'n_epochs': 80,                  # maximum number of epochs\n",
        "    'batch_size': 135,               # mini-batch size for dataloader\n",
        "    'optimizer': 'SGD',              # optimization algorithm (optimizer in torch.optim)\n",
        "    'optim_hparas': {                # hyper-parameters for the optimizer (depends on which optimizer you are using)\n",
        "        'lr': 0.001,                 # learning rate of SGD\n",
        "        'momentum': 0.9              # momentum for SGD\n",
        "    },\n",
        "    'early_stop': 20,                # early stopping epochs (the number epochs since your model's last improvement)\n",
        "    'save_path': 'models/model.pth'  # your model will be saved here\n",
        "}"
      ],
      "execution_count": 9,
      "outputs": []
    },
    {
      "cell_type": "markdown",
      "metadata": {
        "id": "6j1eOV3TOH-j"
      },
      "source": [
        "# **Load data and model**"
      ]
    },
    {
      "cell_type": "code",
      "metadata": {
        "colab": {
          "base_uri": "https://localhost:8080/"
        },
        "id": "eNrYBMmePLKm",
        "outputId": "1d335ad3-3ab8-4894-b48c-a4bffb43cf9b"
      },
      "source": [
        "tr_set, dv_set, tt_set = prep_dataloader(\n",
        "    tr_path, tt_path, config['batch_size'], \n",
        "    target_only=target_only)"
      ],
      "execution_count": 10,
      "outputs": [
        {
          "output_type": "stream",
          "text": [
            "Finished reading the train_all set of the Covid19 Dataset (2700 samples found, each dim = 14)\n",
            "Finished reading the dev set of the Covid19 Dataset (893 samples found, each dim = 14)\n",
            "Finished reading the test set of the Covid19 Dataset (893 samples found, each dim = 14)\n"
          ],
          "name": "stdout"
        }
      ]
    },
    {
      "cell_type": "code",
      "metadata": {
        "id": "FHylSirLP9oh"
      },
      "source": [
        "model = NeuralNet(tr_set.dataset.dim, 0.001).to(device)  # Construct model and move to device"
      ],
      "execution_count": 11,
      "outputs": []
    },
    {
      "cell_type": "markdown",
      "metadata": {
        "id": "sX2B_zgSOPTJ"
      },
      "source": [
        "# **Start Training!**"
      ]
    },
    {
      "cell_type": "code",
      "metadata": {
        "colab": {
          "base_uri": "https://localhost:8080/"
        },
        "id": "GrEbUxazQAAZ",
        "outputId": "23d46871-5f82-4133-ab93-df5b4da46f84"
      },
      "source": [
        "model_loss_record = train(tr_set, dv_set, model, config, device)"
      ],
      "execution_count": 12,
      "outputs": [
        {
          "output_type": "stream",
          "text": [
            "Saving model (epoch =   1)\n",
            "Saving model (epoch =   2)\n",
            "Saving model (epoch =   3)\n",
            "Saving model (epoch =   4)\n",
            "Saving model (epoch =   5)\n",
            "Saving model (epoch =   6)\n",
            "Saving model (epoch =   7)\n",
            "Saving model (epoch =   8)\n",
            "Saving model (epoch =   9)\n",
            "Saving model (epoch =  10)\n",
            "Saving model (epoch =  11)\n",
            "Saving model (epoch =  12)\n",
            "Saving model (epoch =  13)\n",
            "Saving model (epoch =  14)\n",
            "Saving model (epoch =  15)\n",
            "Saving model (epoch =  16)\n",
            "Saving model (epoch =  17)\n",
            "Saving model (epoch =  18)\n",
            "Saving model (epoch =  19)\n",
            "Saving model (epoch =  20)\n",
            "Saving model (epoch =  21)\n",
            "Saving model (epoch =  22)\n",
            "Saving model (epoch =  23)\n",
            "Saving model (epoch =  24)\n",
            "Saving model (epoch =  25)\n",
            "Saving model (epoch =  26)\n",
            "Saving model (epoch =  27)\n",
            "Saving model (epoch =  28)\n",
            "Saving model (epoch =  29)\n",
            "Saving model (epoch =  30)\n",
            "Saving model (epoch =  31)\n",
            "Saving model (epoch =  32)\n",
            "Saving model (epoch =  33)\n",
            "Saving model (epoch =  34)\n",
            "Saving model (epoch =  35)\n",
            "Saving model (epoch =  36)\n",
            "Saving model (epoch =  37)\n",
            "Saving model (epoch =  38)\n",
            "Saving model (epoch =  39)\n",
            "Saving model (epoch =  40)\n",
            "Saving model (epoch =  41)\n",
            "Saving model (epoch =  42)\n",
            "Saving model (epoch =  43)\n",
            "Saving model (epoch =  44)\n",
            "Saving model (epoch =  45)\n",
            "Saving model (epoch =  46)\n",
            "Saving model (epoch =  47)\n",
            "Saving model (epoch =  48)\n",
            "Saving model (epoch =  49)\n",
            "Saving model (epoch =  50)\n",
            "Saving model (epoch =  51)\n",
            "Saving model (epoch =  52)\n",
            "Saving model (epoch =  53)\n",
            "Saving model (epoch =  54)\n",
            "Saving model (epoch =  55)\n",
            "Saving model (epoch =  56)\n",
            "Saving model (epoch =  57)\n",
            "Saving model (epoch =  58)\n",
            "Saving model (epoch =  59)\n",
            "Saving model (epoch =  60)\n",
            "Saving model (epoch =  61)\n",
            "Saving model (epoch =  62)\n",
            "Saving model (epoch =  63)\n",
            "Saving model (epoch =  64)\n",
            "Saving model (epoch =  65)\n",
            "Saving model (epoch =  66)\n",
            "Saving model (epoch =  67)\n",
            "Saving model (epoch =  68)\n",
            "Saving model (epoch =  69)\n",
            "Saving model (epoch =  70)\n",
            "Saving model (epoch =  71)\n",
            "Saving model (epoch =  72)\n",
            "Saving model (epoch =  73)\n",
            "Saving model (epoch =  74)\n",
            "Saving model (epoch =  75)\n",
            "Saving model (epoch =  76)\n",
            "Saving model (epoch =  77)\n",
            "Saving model (epoch =  78)\n",
            "Saving model (epoch =  79)\n",
            "Saving model (epoch =  80)\n",
            "Finished training after 80 epochs\n"
          ],
          "name": "stdout"
        }
      ]
    },
    {
      "cell_type": "code",
      "metadata": {
        "colab": {
          "base_uri": "https://localhost:8080/",
          "height": 295
        },
        "id": "hsNO9nnXQBvP",
        "outputId": "9af66910-d274-4bb9-9dc4-dc430fcfa5b4"
      },
      "source": [
        "plot_learning_curve(model_loss_record, title='deep model')"
      ],
      "execution_count": 13,
      "outputs": [
        {
          "output_type": "display_data",
          "data": {
            "image/png": "[encoded data removed]",
            "text/plain": [
              "<Figure size 432x288 with 1 Axes>"
            ]
          },
          "metadata": {
            "tags": [],
            "needs_background": "light"
          }
        }
      ]
    },
    {
      "cell_type": "code",
      "metadata": {
        "colab": {
          "base_uri": "https://localhost:8080/"
        },
        "id": "3iZTVn5WQFpX",
        "outputId": "bdffbba1-f3b0-4dc5-ed8e-6445782ff7b3"
      },
      "source": [
        "del model\n",
        "model = NeuralNet(tr_set.dataset.dim).to(device)\n",
        "ckpt = torch.load(config['save_path'], map_location='cpu')  # Load your best model\n",
        "model.load_state_dict(ckpt)"
      ],
      "execution_count": 14,
      "outputs": [
        {
          "output_type": "execute_result",
          "data": {
            "text/plain": [
              "<All keys matched successfully>"
            ]
          },
          "metadata": {
            "tags": []
          },
          "execution_count": 14
        }
      ]
    },
    {
      "cell_type": "markdown",
      "metadata": {
        "id": "aQikz3IPiyPf"
      },
      "source": [
        "# **Testing**\n",
        "The predictions of your model on testing set will be stored at `pred.csv`."
      ]
    },
    {
      "cell_type": "code",
      "metadata": {
        "colab": {
          "base_uri": "https://localhost:8080/"
        },
        "id": "O8cTuQjQQOon",
        "outputId": "433320e8-6e12-4496-f4f4-f3e12078a313"
      },
      "source": [
        "def save_pred(preds, file):\n",
        "    ''' Save predictions to specified file '''\n",
        "    print('Saving results to {}'.format(file))\n",
        "    with open(file, 'w') as fp:\n",
        "        writer = csv.writer(fp)\n",
        "        writer.writerow(['id', 'tested_positive'])\n",
        "        for i, p in enumerate(preds):\n",
        "            writer.writerow([i, p])\n",
        "\n",
        "preds = test(tt_set, model, device)  # predict COVID-19 cases with your model\n",
        "save_pred(preds, 'pred.csv')         # save prediction file to pred.csv"
      ],
      "execution_count": 15,
      "outputs": [
        {
          "output_type": "stream",
          "text": [
            "Saving results to pred.csv\n"
          ],
          "name": "stdout"
        }
      ]
    },
    {
      "cell_type": "markdown",
      "metadata": {
        "id": "9tmCwXgpot3t"
      },
      "source": [
        "# **Reference**\n",
        "This code is completely written by Heng-Jui Chang @ NTUEE.  \n",
        "Copying or reusing this code is required to specify the original author."
      ]
    }
  ]
}